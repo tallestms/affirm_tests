{
  "metadata": {
    "kernelspec": {
      "display_name": "Pyolite",
      "language": "python",
      "name": "python"
    },
    "language_info": {
      "codemirror_mode": {
        "name": "python",
        "version": 3
      },
      "file_extension": ".py",
      "mimetype": "text/x-python",
      "name": "python",
      "nbconvert_exporter": "python",
      "pygments_lexer": "ipython3",
      "version": "3.8"
    }
  },
  "nbformat_minor": 5,
  "nbformat": 4,
  "cells": [
    {
      "cell_type": "markdown",
      "source": "### Modeling Loan Repayment Behavior and Cash Flow\nGoals: Replicating Article given Loan Transition Model outputs and creating function in Cash Engine for amortization matrix given 1) number of installments for loan (i) and 2) current time (t)\n",
      "metadata": {},
      "id": "d131adc0-3fa2-4d93-8b0d-5cd18a662f4b"
    },
    {
      "cell_type": "code",
      "source": "import pandas as pd\nimport numpy as np",
      "metadata": {
        "trusted": true
      },
      "execution_count": 450,
      "outputs": [],
      "id": "9008e52f-85ba-4a2d-9736-06f79154cf66"
    },
    {
      "cell_type": "code",
      "source": "#Inputting initial information, table 2 and table 4 of the article\nnp_ltm_transition_matrix = np.array([[0.895, 0.04,0,0,0,0.005,0.06],[0, 0,1,0,0,0,0],[0, 0,0,1,0,0,0],\n                     [0, 0,0,0,1,0,0],[0, 0,0,0,0,1,0],[0, 0,0,0,0,1,0],\n                    [0, 0,0,0,0,0,1],])\n\nltm_transition_matrix = pd.DataFrame(data=np_ltm_transition_matrix, index=[\"current\", \"dq1-30\",\"d31-60\", \"d61-90\",\"dq91-120\", \"charged off\",\"paid off\"], \n                  columns=[\"current\", \"dq1-30\",\"d31-60\",\"d61-90\",\"dq91-120\",\"charged off\",\"paid off\"])\nprint(ltm_transition_matrix)\nnp_current_loan_state = np.array([[100],[0],[0],[0],[0],[0],[0]])",
      "metadata": {
        "trusted": true
      },
      "execution_count": 451,
      "outputs": [
        {
          "name": "stdout",
          "text": "             current  dq1-30  d31-60  d61-90  dq91-120  charged off  paid off\ncurrent        0.895    0.04     0.0     0.0       0.0        0.005      0.06\ndq1-30         0.000    0.00     1.0     0.0       0.0        0.000      0.00\nd31-60         0.000    0.00     0.0     1.0       0.0        0.000      0.00\nd61-90         0.000    0.00     0.0     0.0       1.0        0.000      0.00\ndq91-120       0.000    0.00     0.0     0.0       0.0        1.000      0.00\ncharged off    0.000    0.00     0.0     0.0       0.0        1.000      0.00\npaid off       0.000    0.00     0.0     0.0       0.0        0.000      1.00\n",
          "output_type": "stream"
        }
      ],
      "id": "c10031bd-4a79-491b-9222-1b661b2e2e87"
    },
    {
      "cell_type": "code",
      "source": "np_current_loan_state",
      "metadata": {
        "trusted": true
      },
      "execution_count": 452,
      "outputs": [
        {
          "execution_count": 452,
          "output_type": "execute_result",
          "data": {
            "text/plain": "array([[100],\n       [  0],\n       [  0],\n       [  0],\n       [  0],\n       [  0],\n       [  0]])"
          },
          "metadata": {}
        }
      ],
      "id": "0548b1b1-b499-4c43-a15e-5681d7eac694"
    },
    {
      "cell_type": "code",
      "source": "row_wise_multiplication = np_current_loan_state*np_ltm_transition_matrix",
      "metadata": {
        "trusted": true
      },
      "execution_count": 453,
      "outputs": [],
      "id": "f39fcc79-5199-413a-921d-777a561038ef"
    },
    {
      "cell_type": "code",
      "source": "#Table 5\nrow_wise_multiplication",
      "metadata": {
        "trusted": true
      },
      "execution_count": 454,
      "outputs": [
        {
          "execution_count": 454,
          "output_type": "execute_result",
          "data": {
            "text/plain": "array([[89.5,  4. ,  0. ,  0. ,  0. ,  0.5,  6. ],\n       [ 0. ,  0. ,  0. ,  0. ,  0. ,  0. ,  0. ],\n       [ 0. ,  0. ,  0. ,  0. ,  0. ,  0. ,  0. ],\n       [ 0. ,  0. ,  0. ,  0. ,  0. ,  0. ,  0. ],\n       [ 0. ,  0. ,  0. ,  0. ,  0. ,  0. ,  0. ],\n       [ 0. ,  0. ,  0. ,  0. ,  0. ,  0. ,  0. ],\n       [ 0. ,  0. ,  0. ,  0. ,  0. ,  0. ,  0. ]])"
          },
          "metadata": {}
        }
      ],
      "id": "2bceb18c-439f-4131-93a2-d657b4b5555f"
    },
    {
      "cell_type": "code",
      "source": "prob_weighted_matrix = row_wise_multiplication*amortization_matrix(1,3)",
      "metadata": {
        "trusted": true
      },
      "execution_count": 455,
      "outputs": [],
      "id": "070860e1-fbee-4160-acfb-59eea205f507"
    },
    {
      "cell_type": "code",
      "source": "#Table 6\nprob_weighted_matrix",
      "metadata": {
        "trusted": true
      },
      "execution_count": 456,
      "outputs": [
        {
          "execution_count": 456,
          "output_type": "execute_result",
          "data": {
            "text/plain": "array([[59.66666667,  4.        ,  0.        ,  0.        ,  0.        ,\n         0.5       ,  6.        ],\n       [ 0.        ,  0.        ,  0.        ,  0.        ,  0.        ,\n         0.        ,  0.        ],\n       [ 0.        ,  0.        ,  0.        ,  0.        ,  0.        ,\n         0.        ,  0.        ],\n       [ 0.        ,  0.        ,  0.        ,  0.        ,  0.        ,\n         0.        ,  0.        ],\n       [ 0.        ,  0.        ,  0.        ,  0.        ,  0.        ,\n         0.        ,  0.        ],\n       [ 0.        ,  0.        ,  0.        ,  0.        ,  0.        ,\n         0.        ,  0.        ],\n       [ 0.        ,  0.        ,  0.        ,  0.        ,  0.        ,\n         0.        ,  0.        ]])"
          },
          "metadata": {}
        }
      ],
      "id": "2f00ccf1-9358-4c06-a118-1b588a8ef293"
    },
    {
      "cell_type": "code",
      "source": "#Table 6 - cash flows for t = 1\nsum_columns = np.array([sum(x) for x in zip(*prob_weighted_matrix)])\nsum_columns = sum_columns.reshape(-1, 1)",
      "metadata": {
        "trusted": true
      },
      "execution_count": 457,
      "outputs": [],
      "id": "96f038a2-a373-4368-afa2-fad6a69d554c"
    },
    {
      "cell_type": "code",
      "source": "#Inputting output of LTM for t=2\nnp_ltm_transition_matrix_2 = np.array([[0.895, 0.04,0,0,0,0.005,0.06],[0.24, 0.34,0.4,0,0,0,0.02],[0, 0,0,1,0,0,0],\n                     [0, 0,0,0,1,0,0],[0, 0,0,0,0,1,0],[0, 0,0,0,0,1,0],\n                    [0, 0,0,0,0,0,1],])\n\n#Table 7\nrow_wise_multiplication_2 = sum_columns*np_ltm_transition_matrix_2\nrow_wise_multiplication_2",
      "metadata": {
        "trusted": true
      },
      "execution_count": 458,
      "outputs": [
        {
          "execution_count": 458,
          "output_type": "execute_result",
          "data": {
            "text/plain": "array([[53.40166667,  2.38666667,  0.        ,  0.        ,  0.        ,\n         0.29833333,  3.58      ],\n       [ 0.96      ,  1.36      ,  1.6       ,  0.        ,  0.        ,\n         0.        ,  0.08      ],\n       [ 0.        ,  0.        ,  0.        ,  0.        ,  0.        ,\n         0.        ,  0.        ],\n       [ 0.        ,  0.        ,  0.        ,  0.        ,  0.        ,\n         0.        ,  0.        ],\n       [ 0.        ,  0.        ,  0.        ,  0.        ,  0.        ,\n         0.        ,  0.        ],\n       [ 0.        ,  0.        ,  0.        ,  0.        ,  0.        ,\n         0.5       ,  0.        ],\n       [ 0.        ,  0.        ,  0.        ,  0.        ,  0.        ,\n         0.        ,  6.        ]])"
          },
          "metadata": {}
        }
      ],
      "id": "e332bc01-8173-4b2f-a5e7-11fb5069dffb"
    },
    {
      "cell_type": "code",
      "source": "prob_weighted_matrix_2 = row_wise_multiplication_2*amortization_matrix(2,3)",
      "metadata": {
        "trusted": true
      },
      "execution_count": 459,
      "outputs": [],
      "id": "924d2056-cbd9-417f-a72e-f017ef3be2ec"
    },
    {
      "cell_type": "code",
      "source": "#Table 7\nprob_weighted_matrix_2",
      "metadata": {
        "trusted": true
      },
      "execution_count": 460,
      "outputs": [
        {
          "execution_count": 460,
          "output_type": "execute_result",
          "data": {
            "text/plain": "array([[26.70083333,  2.38666667,  0.        ,  0.        ,  0.        ,\n         0.29833333,  3.58      ],\n       [ 0.32      ,  0.90666667,  1.6       ,  0.        ,  0.        ,\n         0.        ,  0.08      ],\n       [ 0.        ,  0.        ,  0.        ,  0.        ,  0.        ,\n         0.        ,  0.        ],\n       [ 0.        ,  0.        ,  0.        ,  0.        ,  0.        ,\n         0.        ,  0.        ],\n       [ 0.        ,  0.        ,  0.        ,  0.        ,  0.        ,\n         0.        ,  0.        ],\n       [ 0.        ,  0.        ,  0.        ,  0.        ,  0.        ,\n         0.5       ,  0.        ],\n       [ 0.        ,  0.        ,  0.        ,  0.        ,  0.        ,\n         0.        ,  6.        ]])"
          },
          "metadata": {}
        }
      ],
      "id": "0a922961-a5cf-4f64-bcc5-19138177936c"
    },
    {
      "cell_type": "code",
      "source": "sum_columns_2 = np.array([sum(x) for x in zip(*prob_weighted_matrix_2)])\nsum_columns_2 = sum_columns_2.reshape(-1, 1)",
      "metadata": {
        "trusted": true
      },
      "execution_count": 461,
      "outputs": [],
      "id": "a61b067e-bdab-4ff9-95ac-b0e09ffec952"
    },
    {
      "cell_type": "code",
      "source": "#Table 7 - sum of cash flows\nsum_columns_2",
      "metadata": {
        "trusted": true
      },
      "execution_count": 462,
      "outputs": [
        {
          "execution_count": 462,
          "output_type": "execute_result",
          "data": {
            "text/plain": "array([[27.02083333],\n       [ 3.29333333],\n       [ 1.6       ],\n       [ 0.        ],\n       [ 0.        ],\n       [ 0.79833333],\n       [ 9.66      ]])"
          },
          "metadata": {}
        }
      ],
      "id": "8b0d4eea-d504-415f-b14d-2acb1d069f88"
    },
    {
      "cell_type": "code",
      "source": "# The function below supports the Cash Engine by generating the amortization matrix for any time t and number of installments i \n#in zero-interest loans\ndef amortization_matrix(time, num_installments):\n    #Logic for current to other states, given time-step t, number of installments i\n    #0.6667 = t 1\n    #0.5000 = t 2\n    #(1-2/3*p)/(1-1/3*p)\n    #(3/3)(2/3)/(3/3)-(1/3)\n    #1/3/2/3=1/2\n    i = num_installments\n    t = time\n    \n    sub = 0 if t-1 < 0 else min(t-1,i)\n    z = 1 - (sub / i)\n    try:\n        cu_to_cu = max(min((1-t/i)/z,1),0)\n        cu_to_dq1 = max(min((1-(t-1)/i)/z,1),0)\n        cu_to_dq31 = max(min((1-(t-2)/i)/z,1),0)\n        cu_to_dq61 = max(min((1-(t-3)/i)/z,1),0)\n        cu_to_dq91 = max(min((1-(t-4)/i)/z,1),0)\n    except ZeroDivisionError:\n        cu_to_cu = 0\n        cu_to_dq1 = 0\n        cu_to_dq31 = 0\n        cu_to_dq61 = 0\n        cu_to_dq91 = 0   \n\n    cu_to_co = 1\n    cu_to_po = 1\n    \n    #Logic for dq1 to other states, given time-step t, number of installments i\n    sub = 0 if t-2 < 0 else min(t-2,i)\n    z = 1 - (sub / i)\n    try:\n        dq1_to_cu = max(min((1-t/i)/z,1),0)\n        dq1_to_dq1 = max(min((1-(t-1)/i)/z,1),0)\n        dq1_to_dq31 = max(min((1-(t-2)/i)/z,1),0)\n        dq1_to_dq61 = max(min((1-(t-3)/i)/z,1),0)\n        dq1_to_dq91 = max(min((1-(t-4)/i)/z,1),0)\n    except ZeroDivisionError:\n        dq1_to_cu = 0\n        dq1_to_dq1 = 0\n        dq1_to_dq31 = 0\n        dq1_to_dq61 = 0\n        dq1_to_dq91 = 0\n\n    dq1_to_co = 1\n    dq1_to_po = 1\n    \n    #Logic for dq1 to other states, given time-step t, number of installments i\n    sub = 0 if t-3 < 0 else min(t-3,i)\n    z = 1 - (sub / i)\n    try:\n        dq31_to_cu = max(min((1-t/i)/z,1),0)\n        dq31_to_dq1 = max(min((1-(t-1)/i)/z,1),0)\n        dq31_to_dq31 = max(min((1-(t-2)/i)/z,1),0)\n        dq31_to_dq61 = max(min((1-(t-3)/i)/z,1),0)\n        dq31_to_dq91 = max(min((1-(t-4)/i)/z,1),0)\n    except ZeroDivisionError:\n        dq31_to_cu = 0\n        dq31_to_dq1 = 0\n        dq31_to_dq31 = 0\n        dq31_to_dq61 = 0\n        dq31_to_dq91 = 0\n\n    dq31_to_co = 1\n    dq31_to_po = 1\n    \n    #Logic for dq1 to other states, given time-step t, number of installments i\n    sub = 0 if t-4 < 0 else min(t-4,i)\n    z = 1 - (sub / i)\n    try:\n        dq61_to_cu = max(min((1-t/i)/z,1),0)\n        dq61_to_dq1 = max(min((1-(t-1)/i)/z,1),0)\n        dq61_to_dq31 = max(min((1-(t-2)/i)/z,1),0)\n        dq61_to_dq61 = max(min((1-(t-3)/i)/z,1),0)\n        dq61_to_dq91 = max(min((1-(t-4)/i)/z,1),0)\n    except ZeroDivisionError:\n        dq61_to_cu = 0\n        dq61_to_dq1 = 0\n        dq61_to_dq31 = 0\n        dq61_to_dq61 = 0\n        dq61_to_dq91 = 0\n\n    dq61_to_co = 1\n    dq61_to_po = 1\n    \n    #Logic for dq1 to other states, given time-step t, number of installments i\n    sub = 0 if t-5 < 0 else min(t-5,i)\n    z = 1 - (sub / i)\n    try:\n        dq91_to_cu = max(min((1-t/i)/z,1),0)\n        dq91_to_dq1 = max(min((1-(t-1)/i)/z,1),0)\n        dq91_to_dq31 = max(min((1-(t-2)/i)/z,1),0)\n        dq91_to_dq61 = max(min((1-(t-3)/i)/z,1),0)\n        dq91_to_dq91 = max(min((1-(t-4)/i)/z,1),0)\n    except ZeroDivisionError:\n        dq91_to_cu = 0\n        dq91_to_dq1 = 0\n        dq91_to_dq31 = 0\n        dq91_to_dq61 = 0\n        dq91_to_dq91 = 0\n    dq91_to_co = 1\n    dq91_to_po = 1\n    \n    np_mortization_matrix = np.array([[cu_to_cu, cu_to_dq1,cu_to_dq31,cu_to_dq61,cu_to_dq91,cu_to_co,cu_to_po],[dq1_to_cu, dq1_to_dq1,dq1_to_dq31,dq1_to_dq61,dq1_to_dq91,dq1_to_co,dq1_to_po],[dq31_to_cu, dq31_to_dq1, dq31_to_dq31, dq31_to_dq61, dq31_to_dq91, dq31_to_co, dq31_to_po],\n                     [dq61_to_cu, dq61_to_dq1, dq61_to_dq31, dq61_to_dq61, dq61_to_dq91, dq61_to_co, dq61_to_po],[dq91_to_cu, dq91_to_dq1, dq91_to_dq31, dq91_to_dq61, dq91_to_dq91, dq91_to_co, dq91_to_po],\n                     [1, 1, 1, 1, 1, 1, 1],[1, 1, 1, 1, 1, 1, 1],])\n    return np_mortization_matrix",
      "metadata": {
        "trusted": true
      },
      "execution_count": 463,
      "outputs": [],
      "id": "79a328fc-859b-4597-a4b7-708647a251c9"
    },
    {
      "cell_type": "code",
      "source": "amortization_matrix(2,3)",
      "metadata": {
        "trusted": true
      },
      "execution_count": 464,
      "outputs": [
        {
          "execution_count": 464,
          "output_type": "execute_result",
          "data": {
            "text/plain": "array([[0.5       , 1.        , 1.        , 1.        , 1.        ,\n        1.        , 1.        ],\n       [0.33333333, 0.66666667, 1.        , 1.        , 1.        ,\n        1.        , 1.        ],\n       [0.33333333, 0.66666667, 1.        , 1.        , 1.        ,\n        1.        , 1.        ],\n       [0.33333333, 0.66666667, 1.        , 1.        , 1.        ,\n        1.        , 1.        ],\n       [0.33333333, 0.66666667, 1.        , 1.        , 1.        ,\n        1.        , 1.        ],\n       [1.        , 1.        , 1.        , 1.        , 1.        ,\n        1.        , 1.        ],\n       [1.        , 1.        , 1.        , 1.        , 1.        ,\n        1.        , 1.        ]])"
          },
          "metadata": {}
        }
      ],
      "id": "42744efe-fe36-4b1c-8dcb-9e80416df456"
    }
  ]
}